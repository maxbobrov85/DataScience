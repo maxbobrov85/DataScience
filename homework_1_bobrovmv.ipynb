{
  "cells": [
    {
      "cell_type": "markdown",
      "metadata": {
        "id": "view-in-github",
        "colab_type": "text"
      },
      "source": [
        "<a href=\"https://colab.research.google.com/github/maxbobrov85/DataScience/blob/main/homework_1_bobrovmv.ipynb\" target=\"_parent\"><img src=\"https://colab.research.google.com/assets/colab-badge.svg\" alt=\"Open In Colab\"/></a>"
      ]
    },
    {
      "cell_type": "code",
      "source": [
        "!pip install gensim"
      ],
      "metadata": {
        "colab": {
          "base_uri": "https://localhost:8080/"
        },
        "id": "1HVrovvws-jS",
        "outputId": "067b9e05-4014-4cc0-c22c-3e242ec20ae0"
      },
      "execution_count": 1,
      "outputs": [
        {
          "output_type": "stream",
          "name": "stdout",
          "text": [
            "Requirement already satisfied: gensim in /usr/local/lib/python3.10/dist-packages (4.3.2)\n",
            "Requirement already satisfied: numpy>=1.18.5 in /usr/local/lib/python3.10/dist-packages (from gensim) (1.23.5)\n",
            "Requirement already satisfied: scipy>=1.7.0 in /usr/local/lib/python3.10/dist-packages (from gensim) (1.11.2)\n",
            "Requirement already satisfied: smart-open>=1.8.1 in /usr/local/lib/python3.10/dist-packages (from gensim) (6.4.0)\n"
          ]
        }
      ]
    },
    {
      "cell_type": "markdown",
      "metadata": {
        "id": "YkLK0Jt2s8I3"
      },
      "source": [
        "### Нахождение похожих товаров"
      ]
    },
    {
      "cell_type": "code",
      "execution_count": 2,
      "metadata": {
        "id": "XZ88Y0rZs8I8"
      },
      "outputs": [],
      "source": [
        "import pandas as pd\n",
        "import numpy as np"
      ]
    },
    {
      "cell_type": "code",
      "execution_count": 11,
      "metadata": {
        "colab": {
          "base_uri": "https://localhost:8080/",
          "height": 206
        },
        "id": "xVtwUNAqs8I_",
        "outputId": "d47c1584-6fc1-4906-d7d8-237ece0584c6"
      },
      "outputs": [
        {
          "output_type": "execute_result",
          "data": {
            "text/plain": [
              "   id                                        description\n",
              "0   1  Active classic boxers - There's a reason why o...\n",
              "1   2  Active sport boxer briefs - Skinning up Glory ...\n",
              "2   3  Active sport briefs - These superbreathable no...\n",
              "3   4  Alpine guide pants - Skin in, climb ice, switc...\n",
              "4   5  Alpine wind jkt - On high ridges, steep ice an..."
            ],
            "text/html": [
              "\n",
              "  <div id=\"df-c4e14374-4174-41b6-8aac-e745fe9a70c6\" class=\"colab-df-container\">\n",
              "    <div>\n",
              "<style scoped>\n",
              "    .dataframe tbody tr th:only-of-type {\n",
              "        vertical-align: middle;\n",
              "    }\n",
              "\n",
              "    .dataframe tbody tr th {\n",
              "        vertical-align: top;\n",
              "    }\n",
              "\n",
              "    .dataframe thead th {\n",
              "        text-align: right;\n",
              "    }\n",
              "</style>\n",
              "<table border=\"1\" class=\"dataframe\">\n",
              "  <thead>\n",
              "    <tr style=\"text-align: right;\">\n",
              "      <th></th>\n",
              "      <th>id</th>\n",
              "      <th>description</th>\n",
              "    </tr>\n",
              "  </thead>\n",
              "  <tbody>\n",
              "    <tr>\n",
              "      <th>0</th>\n",
              "      <td>1</td>\n",
              "      <td>Active classic boxers - There's a reason why o...</td>\n",
              "    </tr>\n",
              "    <tr>\n",
              "      <th>1</th>\n",
              "      <td>2</td>\n",
              "      <td>Active sport boxer briefs - Skinning up Glory ...</td>\n",
              "    </tr>\n",
              "    <tr>\n",
              "      <th>2</th>\n",
              "      <td>3</td>\n",
              "      <td>Active sport briefs - These superbreathable no...</td>\n",
              "    </tr>\n",
              "    <tr>\n",
              "      <th>3</th>\n",
              "      <td>4</td>\n",
              "      <td>Alpine guide pants - Skin in, climb ice, switc...</td>\n",
              "    </tr>\n",
              "    <tr>\n",
              "      <th>4</th>\n",
              "      <td>5</td>\n",
              "      <td>Alpine wind jkt - On high ridges, steep ice an...</td>\n",
              "    </tr>\n",
              "  </tbody>\n",
              "</table>\n",
              "</div>\n",
              "    <div class=\"colab-df-buttons\">\n",
              "\n",
              "  <div class=\"colab-df-container\">\n",
              "    <button class=\"colab-df-convert\" onclick=\"convertToInteractive('df-c4e14374-4174-41b6-8aac-e745fe9a70c6')\"\n",
              "            title=\"Convert this dataframe to an interactive table.\"\n",
              "            style=\"display:none;\">\n",
              "\n",
              "  <svg xmlns=\"http://www.w3.org/2000/svg\" height=\"24px\" viewBox=\"0 -960 960 960\">\n",
              "    <path d=\"M120-120v-720h720v720H120Zm60-500h600v-160H180v160Zm220 220h160v-160H400v160Zm0 220h160v-160H400v160ZM180-400h160v-160H180v160Zm440 0h160v-160H620v160ZM180-180h160v-160H180v160Zm440 0h160v-160H620v160Z\"/>\n",
              "  </svg>\n",
              "    </button>\n",
              "\n",
              "  <style>\n",
              "    .colab-df-container {\n",
              "      display:flex;\n",
              "      gap: 12px;\n",
              "    }\n",
              "\n",
              "    .colab-df-convert {\n",
              "      background-color: #E8F0FE;\n",
              "      border: none;\n",
              "      border-radius: 50%;\n",
              "      cursor: pointer;\n",
              "      display: none;\n",
              "      fill: #1967D2;\n",
              "      height: 32px;\n",
              "      padding: 0 0 0 0;\n",
              "      width: 32px;\n",
              "    }\n",
              "\n",
              "    .colab-df-convert:hover {\n",
              "      background-color: #E2EBFA;\n",
              "      box-shadow: 0px 1px 2px rgba(60, 64, 67, 0.3), 0px 1px 3px 1px rgba(60, 64, 67, 0.15);\n",
              "      fill: #174EA6;\n",
              "    }\n",
              "\n",
              "    .colab-df-buttons div {\n",
              "      margin-bottom: 4px;\n",
              "    }\n",
              "\n",
              "    [theme=dark] .colab-df-convert {\n",
              "      background-color: #3B4455;\n",
              "      fill: #D2E3FC;\n",
              "    }\n",
              "\n",
              "    [theme=dark] .colab-df-convert:hover {\n",
              "      background-color: #434B5C;\n",
              "      box-shadow: 0px 1px 3px 1px rgba(0, 0, 0, 0.15);\n",
              "      filter: drop-shadow(0px 1px 2px rgba(0, 0, 0, 0.3));\n",
              "      fill: #FFFFFF;\n",
              "    }\n",
              "  </style>\n",
              "\n",
              "    <script>\n",
              "      const buttonEl =\n",
              "        document.querySelector('#df-c4e14374-4174-41b6-8aac-e745fe9a70c6 button.colab-df-convert');\n",
              "      buttonEl.style.display =\n",
              "        google.colab.kernel.accessAllowed ? 'block' : 'none';\n",
              "\n",
              "      async function convertToInteractive(key) {\n",
              "        const element = document.querySelector('#df-c4e14374-4174-41b6-8aac-e745fe9a70c6');\n",
              "        const dataTable =\n",
              "          await google.colab.kernel.invokeFunction('convertToInteractive',\n",
              "                                                    [key], {});\n",
              "        if (!dataTable) return;\n",
              "\n",
              "        const docLinkHtml = 'Like what you see? Visit the ' +\n",
              "          '<a target=\"_blank\" href=https://colab.research.google.com/notebooks/data_table.ipynb>data table notebook</a>'\n",
              "          + ' to learn more about interactive tables.';\n",
              "        element.innerHTML = '';\n",
              "        dataTable['output_type'] = 'display_data';\n",
              "        await google.colab.output.renderOutput(dataTable, element);\n",
              "        const docLink = document.createElement('div');\n",
              "        docLink.innerHTML = docLinkHtml;\n",
              "        element.appendChild(docLink);\n",
              "      }\n",
              "    </script>\n",
              "  </div>\n",
              "\n",
              "\n",
              "<div id=\"df-647d98cc-188d-4f29-a60b-0f3fc1db24a6\">\n",
              "  <button class=\"colab-df-quickchart\" onclick=\"quickchart('df-647d98cc-188d-4f29-a60b-0f3fc1db24a6')\"\n",
              "            title=\"Suggest charts.\"\n",
              "            style=\"display:none;\">\n",
              "\n",
              "<svg xmlns=\"http://www.w3.org/2000/svg\" height=\"24px\"viewBox=\"0 0 24 24\"\n",
              "     width=\"24px\">\n",
              "    <g>\n",
              "        <path d=\"M19 3H5c-1.1 0-2 .9-2 2v14c0 1.1.9 2 2 2h14c1.1 0 2-.9 2-2V5c0-1.1-.9-2-2-2zM9 17H7v-7h2v7zm4 0h-2V7h2v10zm4 0h-2v-4h2v4z\"/>\n",
              "    </g>\n",
              "</svg>\n",
              "  </button>\n",
              "\n",
              "<style>\n",
              "  .colab-df-quickchart {\n",
              "      --bg-color: #E8F0FE;\n",
              "      --fill-color: #1967D2;\n",
              "      --hover-bg-color: #E2EBFA;\n",
              "      --hover-fill-color: #174EA6;\n",
              "      --disabled-fill-color: #AAA;\n",
              "      --disabled-bg-color: #DDD;\n",
              "  }\n",
              "\n",
              "  [theme=dark] .colab-df-quickchart {\n",
              "      --bg-color: #3B4455;\n",
              "      --fill-color: #D2E3FC;\n",
              "      --hover-bg-color: #434B5C;\n",
              "      --hover-fill-color: #FFFFFF;\n",
              "      --disabled-bg-color: #3B4455;\n",
              "      --disabled-fill-color: #666;\n",
              "  }\n",
              "\n",
              "  .colab-df-quickchart {\n",
              "    background-color: var(--bg-color);\n",
              "    border: none;\n",
              "    border-radius: 50%;\n",
              "    cursor: pointer;\n",
              "    display: none;\n",
              "    fill: var(--fill-color);\n",
              "    height: 32px;\n",
              "    padding: 0;\n",
              "    width: 32px;\n",
              "  }\n",
              "\n",
              "  .colab-df-quickchart:hover {\n",
              "    background-color: var(--hover-bg-color);\n",
              "    box-shadow: 0 1px 2px rgba(60, 64, 67, 0.3), 0 1px 3px 1px rgba(60, 64, 67, 0.15);\n",
              "    fill: var(--button-hover-fill-color);\n",
              "  }\n",
              "\n",
              "  .colab-df-quickchart-complete:disabled,\n",
              "  .colab-df-quickchart-complete:disabled:hover {\n",
              "    background-color: var(--disabled-bg-color);\n",
              "    fill: var(--disabled-fill-color);\n",
              "    box-shadow: none;\n",
              "  }\n",
              "\n",
              "  .colab-df-spinner {\n",
              "    border: 2px solid var(--fill-color);\n",
              "    border-color: transparent;\n",
              "    border-bottom-color: var(--fill-color);\n",
              "    animation:\n",
              "      spin 1s steps(1) infinite;\n",
              "  }\n",
              "\n",
              "  @keyframes spin {\n",
              "    0% {\n",
              "      border-color: transparent;\n",
              "      border-bottom-color: var(--fill-color);\n",
              "      border-left-color: var(--fill-color);\n",
              "    }\n",
              "    20% {\n",
              "      border-color: transparent;\n",
              "      border-left-color: var(--fill-color);\n",
              "      border-top-color: var(--fill-color);\n",
              "    }\n",
              "    30% {\n",
              "      border-color: transparent;\n",
              "      border-left-color: var(--fill-color);\n",
              "      border-top-color: var(--fill-color);\n",
              "      border-right-color: var(--fill-color);\n",
              "    }\n",
              "    40% {\n",
              "      border-color: transparent;\n",
              "      border-right-color: var(--fill-color);\n",
              "      border-top-color: var(--fill-color);\n",
              "    }\n",
              "    60% {\n",
              "      border-color: transparent;\n",
              "      border-right-color: var(--fill-color);\n",
              "    }\n",
              "    80% {\n",
              "      border-color: transparent;\n",
              "      border-right-color: var(--fill-color);\n",
              "      border-bottom-color: var(--fill-color);\n",
              "    }\n",
              "    90% {\n",
              "      border-color: transparent;\n",
              "      border-bottom-color: var(--fill-color);\n",
              "    }\n",
              "  }\n",
              "</style>\n",
              "\n",
              "  <script>\n",
              "    async function quickchart(key) {\n",
              "      const quickchartButtonEl =\n",
              "        document.querySelector('#' + key + ' button');\n",
              "      quickchartButtonEl.disabled = true;  // To prevent multiple clicks.\n",
              "      quickchartButtonEl.classList.add('colab-df-spinner');\n",
              "      try {\n",
              "        const charts = await google.colab.kernel.invokeFunction(\n",
              "            'suggestCharts', [key], {});\n",
              "      } catch (error) {\n",
              "        console.error('Error during call to suggestCharts:', error);\n",
              "      }\n",
              "      quickchartButtonEl.classList.remove('colab-df-spinner');\n",
              "      quickchartButtonEl.classList.add('colab-df-quickchart-complete');\n",
              "    }\n",
              "    (() => {\n",
              "      let quickchartButtonEl =\n",
              "        document.querySelector('#df-647d98cc-188d-4f29-a60b-0f3fc1db24a6 button');\n",
              "      quickchartButtonEl.style.display =\n",
              "        google.colab.kernel.accessAllowed ? 'block' : 'none';\n",
              "    })();\n",
              "  </script>\n",
              "</div>\n",
              "    </div>\n",
              "  </div>\n"
            ]
          },
          "metadata": {},
          "execution_count": 11
        }
      ],
      "source": [
        "#Загрузка данных и их краткий обзор\n",
        "data = pd.read_csv('/sample-data.csv')\n",
        "data.head()"
      ]
    },
    {
      "cell_type": "markdown",
      "source": [
        "# Новый раздел"
      ],
      "metadata": {
        "id": "ajUrF1ZVtQKh"
      }
    },
    {
      "cell_type": "markdown",
      "metadata": {
        "id": "-nil-BLfs8JA"
      },
      "source": [
        "### TF-IDF embedding"
      ]
    },
    {
      "cell_type": "code",
      "execution_count": 12,
      "metadata": {
        "id": "dbXTwk-Us8JB"
      },
      "outputs": [],
      "source": [
        "#Проведем векторизацию стандартным инструментом\n",
        "from sklearn.feature_extraction.text import TfidfVectorizer\n",
        "\n",
        "tfidf = TfidfVectorizer(max_features=100)\n",
        "tfidf_matrix = tfidf.fit_transform(data['description'] ).toarray()"
      ]
    },
    {
      "cell_type": "code",
      "execution_count": 13,
      "metadata": {
        "colab": {
          "base_uri": "https://localhost:8080/"
        },
        "id": "iGTD8O0ps8JD",
        "outputId": "60d8034c-9039-49bb-cd1b-d41bab41d2cc"
      },
      "outputs": [
        {
          "output_type": "execute_result",
          "data": {
            "text/plain": [
              "(500, 100)"
            ]
          },
          "metadata": {},
          "execution_count": 13
        }
      ],
      "source": [
        "tfidf_matrix.shape"
      ]
    },
    {
      "cell_type": "code",
      "execution_count": 14,
      "metadata": {
        "colab": {
          "base_uri": "https://localhost:8080/"
        },
        "id": "m_xSfU03s8JE",
        "outputId": "28347d92-0248-4559-8a30-3158a6742c77"
      },
      "outputs": [
        {
          "output_type": "execute_result",
          "data": {
            "text/plain": [
              "array([[0.13227945, 0.09026108, 0.0856903 , ..., 0.        , 0.        ,\n",
              "        0.        ],\n",
              "       [0.        , 0.        , 0.        , ..., 0.        , 0.        ,\n",
              "        0.        ],\n",
              "       [0.        , 0.        , 0.        , ..., 0.        , 0.        ,\n",
              "        0.        ],\n",
              "       ...,\n",
              "       [0.21605756, 0.23588353, 0.11196924, ..., 0.22075499, 0.        ,\n",
              "        0.06504209],\n",
              "       [0.10600198, 0.14466123, 0.        , ..., 0.09025553, 0.        ,\n",
              "        0.        ],\n",
              "       [0.11106583, 0.15157187, 0.07194817, ..., 0.09456714, 0.        ,\n",
              "        0.        ]])"
            ]
          },
          "metadata": {},
          "execution_count": 14
        }
      ],
      "source": [
        "tfidf_matrix"
      ]
    },
    {
      "cell_type": "code",
      "execution_count": 15,
      "metadata": {
        "colab": {
          "base_uri": "https://localhost:8080/"
        },
        "id": "EArhaCsms8JG",
        "outputId": "84a5b358-6188-4056-e1a3-32fd7f97c618"
      },
      "outputs": [
        {
          "output_type": "execute_result",
          "data": {
            "text/plain": [
              "array([[1.        , 0.74784451, 0.60195865, ..., 0.52081562, 0.55956073,\n",
              "        0.5977328 ],\n",
              "       [0.74784451, 1.        , 0.77799984, ..., 0.41643437, 0.5557526 ,\n",
              "        0.58484265],\n",
              "       [0.60195865, 0.77799984, 1.        , ..., 0.42310676, 0.4141116 ,\n",
              "        0.44532735],\n",
              "       ...,\n",
              "       [0.52081562, 0.41643437, 0.42310676, ..., 1.        , 0.39570938,\n",
              "        0.43626628],\n",
              "       [0.55956073, 0.5557526 , 0.4141116 , ..., 0.39570938, 1.        ,\n",
              "        0.89313602],\n",
              "       [0.5977328 , 0.58484265, 0.44532735, ..., 0.43626628, 0.89313602,\n",
              "        1.        ]])"
            ]
          },
          "metadata": {},
          "execution_count": 15
        }
      ],
      "source": [
        "from sklearn.metrics.pairwise import cosine_similarity, manhattan_distances,euclidean_distances\n",
        "metric=cosine_similarity\n",
        "# Вычисляем косинусное расстояние между парами векторов\n",
        "similarity_matrix_itidf = metric(tfidf_matrix)\n",
        "similarity_matrix_itidf"
      ]
    },
    {
      "cell_type": "markdown",
      "metadata": {
        "id": "JQY7C3oHs8JH"
      },
      "source": [
        "Матрица схожести товаров"
      ]
    },
    {
      "cell_type": "code",
      "execution_count": 16,
      "metadata": {
        "colab": {
          "base_uri": "https://localhost:8080/"
        },
        "id": "tJ8eGFrws8JJ",
        "outputId": "86993904-ecf6-4d0f-cd21-5a0f986cfd47"
      },
      "outputs": [
        {
          "output_type": "execute_result",
          "data": {
            "text/plain": [
              "array([[1, 1, 1, ..., 0, 0, 0],\n",
              "       [1, 1, 1, ..., 0, 0, 0],\n",
              "       [1, 1, 1, ..., 0, 0, 0],\n",
              "       ...,\n",
              "       [0, 0, 0, ..., 1, 0, 0],\n",
              "       [0, 0, 0, ..., 0, 1, 1],\n",
              "       [0, 0, 0, ..., 0, 1, 1]])"
            ]
          },
          "metadata": {},
          "execution_count": 16
        }
      ],
      "source": [
        "threshold = 0.6  # Подобраный порог\n",
        "\n",
        "# Создаём матрицу с бинарными значениями: 1, если косинусное расстояние больше порога, иначе 0\n",
        "similarity_matrix_binary_ifidf = (similarity_matrix_itidf > threshold).astype(int)\n",
        "similarity_matrix_binary_ifidf"
      ]
    },
    {
      "cell_type": "markdown",
      "metadata": {
        "id": "gk0u6dBjs8JL"
      },
      "source": [
        "### Word2Vec embedding"
      ]
    },
    {
      "cell_type": "code",
      "execution_count": 17,
      "metadata": {
        "id": "6NJagIxls8JM"
      },
      "outputs": [],
      "source": [
        "#Воспользуемся стандартным инструментом библиотеки gensim\n",
        "from gensim.models import Word2Vec\n",
        "import string\n",
        "\n",
        "def preprocess_text(text):\n",
        "    text = text.lower()  # Приведение к нижнему регистру\n",
        "    text = text.translate(str.maketrans('', '', string.punctuation))  # Удаление знаков пунктуации\n",
        "    return text\n",
        "\n",
        "data['cleaned_text'] = data['description'].apply(preprocess_text)\n",
        "\n",
        "# Токенизация текстов\n",
        "data['tokenized_text'] = data['cleaned_text'].str.split()\n",
        "\n",
        "# Обучение модели Word2Vec. Гипре параметры подобраны для лучшего отображения схожести текстов\n",
        "model = Word2Vec(sentences=data['tokenized_text'], vector_size=150, window=3, min_count=4, sg=1)\n",
        "\n",
        "\n"
      ]
    },
    {
      "cell_type": "code",
      "execution_count": 18,
      "metadata": {
        "colab": {
          "base_uri": "https://localhost:8080/"
        },
        "id": "OgmOt62Gs8JN",
        "outputId": "71491a28-d9e2-44be-9f80-a2a99067209f"
      },
      "outputs": [
        {
          "output_type": "execute_result",
          "data": {
            "text/plain": [
              "array([[1.        , 0.9940897 , 0.99002355, ..., 0.9330103 , 0.9502648 ,\n",
              "        0.97123975],\n",
              "       [0.9940897 , 0.9999999 , 0.9910671 , ..., 0.93408185, 0.9643102 ,\n",
              "        0.9826256 ],\n",
              "       [0.99002355, 0.9910671 , 1.0000001 , ..., 0.9617422 , 0.9519488 ,\n",
              "        0.96631575],\n",
              "       ...,\n",
              "       [0.93301034, 0.9340825 , 0.9617424 , ..., 1.0000002 , 0.89547384,\n",
              "        0.9091823 ],\n",
              "       [0.95026475, 0.9643103 , 0.95194876, ..., 0.8954742 , 1.0000004 ,\n",
              "        0.99177486],\n",
              "       [0.97123975, 0.9826256 , 0.96631575, ..., 0.9091823 , 0.99177486,\n",
              "        1.0000001 ]], dtype=float32)"
            ]
          },
          "metadata": {},
          "execution_count": 18
        }
      ],
      "source": [
        "def get_average_vector(text, model):\n",
        "    vector_sum = 0\n",
        "    word_count = 0\n",
        "    for word in text:\n",
        "        if word in model.wv:\n",
        "            vector_sum += model.wv[word]\n",
        "            word_count += 1\n",
        "    if word_count > 0:\n",
        "        return vector_sum / word_count\n",
        "    else:\n",
        "        return None\n",
        "\n",
        "data['word2vec_vector'] = data['tokenized_text'].apply(lambda x: get_average_vector(x, model))\n",
        "\n",
        "# Вычисление косинусного расстояния\n",
        "\n",
        "word2vec_vectors = list(data['word2vec_vector'])\n",
        "similarity_matrix_w2v =  metric(word2vec_vectors, word2vec_vectors)\n",
        "similarity_matrix_w2v"
      ]
    },
    {
      "cell_type": "markdown",
      "metadata": {
        "id": "SAViQoArs8JO"
      },
      "source": [
        "Матрица схожести товаров"
      ]
    },
    {
      "cell_type": "code",
      "execution_count": 19,
      "metadata": {
        "colab": {
          "base_uri": "https://localhost:8080/"
        },
        "id": "ToRN3raCs8JP",
        "outputId": "0aa8aa9b-fdeb-4096-f5fc-f223edcbd38e"
      },
      "outputs": [
        {
          "output_type": "execute_result",
          "data": {
            "text/plain": [
              "array([[1, 1, 1, ..., 0, 0, 0],\n",
              "       [1, 1, 1, ..., 0, 0, 0],\n",
              "       [1, 1, 1, ..., 0, 0, 0],\n",
              "       ...,\n",
              "       [0, 0, 0, ..., 1, 0, 0],\n",
              "       [0, 0, 0, ..., 0, 1, 1],\n",
              "       [0, 0, 0, ..., 0, 1, 1]])"
            ]
          },
          "metadata": {},
          "execution_count": 19
        }
      ],
      "source": [
        "threshold = 0.99  # Подобранный порог\n",
        "\n",
        "# Создаём матрицу с бинарными значениями: 1, если косинусное расстояние меньше порога, иначе 0\n",
        "similarity_matrix_binary_w2w = (similarity_matrix_w2v > threshold).astype(int)\n",
        "similarity_matrix_binary_w2w"
      ]
    },
    {
      "cell_type": "markdown",
      "metadata": {
        "id": "xI0hP700s8JP"
      },
      "source": [
        "### Вывод num наиболее похожих товаров"
      ]
    },
    {
      "cell_type": "code",
      "execution_count": 20,
      "metadata": {
        "id": "RXqPt1Wts8JQ"
      },
      "outputs": [],
      "source": [
        "#Функция выбора num (по умолчанию 3) самых близких элементов\n",
        "def close_topic(topic_num, matrix, num=3):\n",
        "    close_topics=sorted(enumerate(matrix[topic_num]), key=lambda x:x[1], reverse=True)\n",
        "    top_indices = [index for index, _ in close_topics[1:num+1]]\n",
        "    return top_indices"
      ]
    },
    {
      "cell_type": "code",
      "execution_count": 21,
      "metadata": {
        "id": "4x222_G6s8JR"
      },
      "outputs": [],
      "source": [
        "topic_num=0 #Номер товара для сравнения\n",
        "num=5 # Количество наиболее похожих товаров\n"
      ]
    },
    {
      "cell_type": "markdown",
      "metadata": {
        "id": "8h-ziK8ds8JR"
      },
      "source": [
        "Для TF-IDF"
      ]
    },
    {
      "cell_type": "code",
      "execution_count": 22,
      "metadata": {
        "colab": {
          "base_uri": "https://localhost:8080/"
        },
        "id": "qC5RnCvas8JS",
        "outputId": "f4c675ab-8e31-46ad-edc9-f37653b13e67"
      },
      "outputs": [
        {
          "output_type": "stream",
          "name": "stdout",
          "text": [
            "Active classic boxers - There's a reason why our boxers are a cult favorite - they keep their cool, especially in sticky situations. The quick-drying, lightweight underwear takes up minimal space in a travel pack. An exposed, brushed waistband offers next-to-skin softness, five-panel construction with a traditional boxer back for a classic fit, and a functional fly. Made of 3.7-oz 100% recycled polyester with moisture-wicking performance. Inseam (size M) is 4 1/2\". Recyclable through the Common Threads Recycling Program.<br><br><b>Details:</b><ul> <li>\"Silky Capilene 1 fabric is ultralight, breathable and quick-to-dry\"</li> <li>\"Exposed, brushed elastic waistband for comfort\"</li> <li>5-panel construction with traditional boxer back</li> <li>\"Inseam (size M) is 4 1/2\"\"\"</li></ul><br><br><b>Fabric: </b>3.7-oz 100% all-recycled polyester with Gladiodor natural odor control for the garment. Recyclable through the Common Threads Recycling Program<br><br><b>Weight: </b>99 g (3.5 oz)<br><br>Made in Mexico.\n",
            "493    Active boxer briefs - A no-fuss travel compani...\n",
            "449    Long haul runners - Long Hauls eat up backcoun...\n",
            "18     Cap 1 boxer briefs - On bivy or belay, the for...\n",
            "24     Cap 4 bottoms - For sufferfests like the Grand...\n",
            "494    Active briefs - These featherweight, quick-wic...\n",
            "Name: description, dtype: object\n"
          ]
        }
      ],
      "source": [
        "indices=close_topic(topic_num, similarity_matrix_itidf, num = num)\n",
        "print(data['description'][topic_num])\n",
        "print(data['description'][indices])\n"
      ]
    },
    {
      "cell_type": "markdown",
      "metadata": {
        "id": "3GY5z3iVs8JS"
      },
      "source": [
        "Для Word2Vec"
      ]
    },
    {
      "cell_type": "code",
      "execution_count": 23,
      "metadata": {
        "colab": {
          "base_uri": "https://localhost:8080/"
        },
        "id": "F9L4QUBJs8JT",
        "outputId": "b628f14c-1d70-45fd-9521-1cd2e7bd6e4d"
      },
      "outputs": [
        {
          "output_type": "stream",
          "name": "stdout",
          "text": [
            "Active classic boxers - There's a reason why our boxers are a cult favorite - they keep their cool, especially in sticky situations. The quick-drying, lightweight underwear takes up minimal space in a travel pack. An exposed, brushed waistband offers next-to-skin softness, five-panel construction with a traditional boxer back for a classic fit, and a functional fly. Made of 3.7-oz 100% recycled polyester with moisture-wicking performance. Inseam (size M) is 4 1/2\". Recyclable through the Common Threads Recycling Program.<br><br><b>Details:</b><ul> <li>\"Silky Capilene 1 fabric is ultralight, breathable and quick-to-dry\"</li> <li>\"Exposed, brushed elastic waistband for comfort\"</li> <li>5-panel construction with traditional boxer back</li> <li>\"Inseam (size M) is 4 1/2\"\"\"</li></ul><br><br><b>Fabric: </b>3.7-oz 100% all-recycled polyester with Gladiodor natural odor control for the garment. Recyclable through the Common Threads Recycling Program<br><br><b>Weight: </b>99 g (3.5 oz)<br><br>Made in Mexico.\n",
            "493    Active boxer briefs - A no-fuss travel compani...\n",
            "1      Active sport boxer briefs - Skinning up Glory ...\n",
            "18     Cap 1 boxer briefs - On bivy or belay, the for...\n",
            "494    Active briefs - These featherweight, quick-wic...\n",
            "233    Vitaliti dress - The ocean has had its way wit...\n",
            "Name: description, dtype: object\n"
          ]
        }
      ],
      "source": [
        "indices=close_topic(topic_num,similarity_matrix_w2v,num=5)\n",
        "print(data['description'][topic_num])\n",
        "print(data['description'][indices])"
      ]
    }
  ],
  "metadata": {
    "kernelspec": {
      "display_name": ".venv",
      "language": "python",
      "name": "python3"
    },
    "language_info": {
      "codemirror_mode": {
        "name": "ipython",
        "version": 3
      },
      "file_extension": ".py",
      "mimetype": "text/x-python",
      "name": "python",
      "nbconvert_exporter": "python",
      "pygments_lexer": "ipython3",
      "version": "3.11.5"
    },
    "orig_nbformat": 4,
    "colab": {
      "provenance": [],
      "toc_visible": true,
      "include_colab_link": true
    }
  },
  "nbformat": 4,
  "nbformat_minor": 0
}