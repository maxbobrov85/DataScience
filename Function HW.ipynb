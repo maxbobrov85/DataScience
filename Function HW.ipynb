{
 "cells": [
  {
   "cell_type": "markdown",
   "id": "ee63d343",
   "metadata": {},
   "source": [
    "Устанавливаем и импортируем библиотеки"
   ]
  },
  {
   "cell_type": "code",
   "execution_count": 5,
   "id": "29643926",
   "metadata": {},
   "outputs": [],
   "source": [
    "!pip install -q -U kaggle_environments"
   ]
  },
  {
   "cell_type": "code",
   "execution_count": 1,
   "id": "a89ab74a",
   "metadata": {},
   "outputs": [],
   "source": [
    "from kaggle_environments import make, evaluate"
   ]
  },
  {
   "cell_type": "markdown",
   "id": "dfd7a7ba",
   "metadata": {},
   "source": [
    "Вспомогательная функция для определения победителя в одном раунде"
   ]
  },
  {
   "cell_type": "code",
   "execution_count": 18,
   "id": "fcde39d3",
   "metadata": {},
   "outputs": [
    {
     "name": "stdout",
     "output_type": "stream",
     "text": [
      "Overwriting utils.py\n"
     ]
    }
   ],
   "source": [
    "%%writefile utils.py\n",
    "import math\n",
    "def get_score(left_move, right_move):\n",
    "    delta = (\n",
    "        right_move - left_move\n",
    "        if (left_move + right_move) % 2 == 0\n",
    "        else left_move - right_move\n",
    "    )\n",
    "    return 0 if delta == 0 else math.copysign(1, delta)"
   ]
  },
  {
   "cell_type": "markdown",
   "id": "c90ecb54",
   "metadata": {},
   "source": [
    "## Создание агентов\n",
    "Создаем простых агентов показывающих только камень(0), только бумагу(1) или только ножницы (2)"
   ]
  },
  {
   "cell_type": "code",
   "execution_count": 20,
   "id": "39d9229d",
   "metadata": {},
   "outputs": [
    {
     "name": "stdout",
     "output_type": "stream",
     "text": [
      "Overwriting rock_agent.py\n"
     ]
    }
   ],
   "source": [
    "%%writefile rock_agent.py\n",
    "\n",
    "def rock_agent(observation, configuration):\n",
    "    return 0"
   ]
  },
  {
   "cell_type": "code",
   "execution_count": 21,
   "id": "83faa341",
   "metadata": {},
   "outputs": [
    {
     "name": "stdout",
     "output_type": "stream",
     "text": [
      "Overwriting paper_agent.py\n"
     ]
    }
   ],
   "source": [
    "%%writefile paper_agent.py\n",
    "\n",
    "def paper_agent(observation, configuration):\n",
    "    return 0"
   ]
  },
  {
   "cell_type": "code",
   "execution_count": 22,
   "id": "4eabee6d",
   "metadata": {},
   "outputs": [
    {
     "name": "stdout",
     "output_type": "stream",
     "text": [
      "Overwriting scissors_agent.py\n"
     ]
    }
   ],
   "source": [
    "%%writefile scissors_agent.py\n",
    "\n",
    "def scissors_agent(observation, configuration):\n",
    "    return 2"
   ]
  },
  {
   "cell_type": "markdown",
   "id": "cd159afd",
   "metadata": {},
   "source": [
    "Агент возвращающий случайный символ"
   ]
  },
  {
   "cell_type": "code",
   "execution_count": 23,
   "id": "d166038d",
   "metadata": {
    "scrolled": true
   },
   "outputs": [
    {
     "name": "stdout",
     "output_type": "stream",
     "text": [
      "Overwriting rand_agent.py\n"
     ]
    }
   ],
   "source": [
    "%%writefile rand_agent.py\n",
    "\n",
    "import random\n",
    "\n",
    "def rand_agent(observation, configuration):\n",
    "    return random.randrange(0, configuration.signs)"
   ]
  },
  {
   "cell_type": "markdown",
   "id": "874b0962",
   "metadata": {},
   "source": [
    "Агент копирующий последний ход соперника"
   ]
  },
  {
   "cell_type": "code",
   "execution_count": 7,
   "id": "8fb394f6",
   "metadata": {},
   "outputs": [
    {
     "name": "stdout",
     "output_type": "stream",
     "text": [
      "Overwriting copy_opponent_agent.py\n"
     ]
    }
   ],
   "source": [
    "%%writefile copy_opponent_agent.py\n",
    "\n",
    "import random\n",
    "\n",
    "def copy_opponent(observation, configuration):\n",
    "    if observation.step > 0:\n",
    "        return observation.lastOpponentAction\n",
    "    else:\n",
    "        return random.randrange(0, configuration.signs)"
   ]
  },
  {
   "cell_type": "markdown",
   "id": "6a7a6852",
   "metadata": {},
   "source": [
    "Этот агент смотрит если в предыдущей игре он проиграл, то меняет стратегию так, что бы она была выигрышной для предыдущего хода соперника. В противном случае ничего не меняет"
   ]
  },
  {
   "cell_type": "code",
   "execution_count": 8,
   "id": "2d12a585",
   "metadata": {},
   "outputs": [
    {
     "name": "stdout",
     "output_type": "stream",
     "text": [
      "Overwriting last_react_agent.py\n"
     ]
    }
   ],
   "source": [
    "%%writefile last_react_agent.py\n",
    "\n",
    "import random\n",
    "from utils import get_score\n",
    "\n",
    "last_react_action = None\n",
    "\n",
    "def reactionary(observation, configuration):\n",
    "    global last_react_action\n",
    "    if observation.step == 0:\n",
    "        last_react_action = random.randrange(0, configuration.signs)\n",
    "    elif get_score(last_react_action, observation.lastOpponentAction) <= 1:\n",
    "        last_react_action = (observation.lastOpponentAction + 1) % configuration.signs\n",
    "    return last_react_action\n",
    "\n"
   ]
  },
  {
   "cell_type": "markdown",
   "id": "1d729c50",
   "metadata": {},
   "source": [
    "Этот агент меняет свой выбор на следующий по порядку (камень-бумага-ножницы), в случае если в прошлый раз проиграл."
   ]
  },
  {
   "cell_type": "code",
   "execution_count": 9,
   "id": "55df7b61",
   "metadata": {},
   "outputs": [
    {
     "name": "stdout",
     "output_type": "stream",
     "text": [
      "Overwriting reward_agent.py\n"
     ]
    }
   ],
   "source": [
    "%%writefile reward_agent.py\n",
    "\n",
    "my_last_action = None\n",
    "last_reward = 0\n",
    "\n",
    "def reward(observation, configuration):\n",
    "    global my_last_action, last_reward\n",
    "    if observation.step == 0:\n",
    "        my_last_action = 0\n",
    "    elif observation.reward <= last_reward:\n",
    "         my_last_action = ( my_last_action + 1) % configuration.signs\n",
    "    last_reward = observation.reward\n",
    "    return  my_last_action\n",
    "\n",
    "    "
   ]
  },
  {
   "cell_type": "markdown",
   "id": "f14f3fef",
   "metadata": {},
   "source": [
    "Агент который в зависимости от исхода предыдущего хода меняет свой выбор. В случае победы через один от своего последнего ( в ряду камень-бумага-ножницы), в остальных случаях на противоположный последнему выбору противника."
   ]
  },
  {
   "cell_type": "code",
   "execution_count": 10,
   "id": "b715ee63",
   "metadata": {},
   "outputs": [
    {
     "name": "stdout",
     "output_type": "stream",
     "text": [
      "Overwriting last_count_react_agent.py\n"
     ]
    }
   ],
   "source": [
    "%%writefile last_count_react_agent.py\n",
    "import random\n",
    "from utils import get_score\n",
    "\n",
    "last_counter_action = None\n",
    "\n",
    "def counter_reactionary(observation, configuration):\n",
    "    global last_counter_action\n",
    "    if observation.step == 0:\n",
    "        last_counter_action = random.randrange(0, configuration.signs)\n",
    "    elif get_score(last_counter_action, observation.lastOpponentAction) == 1:\n",
    "        last_counter_action = (last_counter_action + 2) % configuration.signs\n",
    "    else:\n",
    "        last_counter_action = (observation.lastOpponentAction + 1) % configuration.signs\n",
    "    return last_counter_action\n",
    "\n"
   ]
  },
  {
   "cell_type": "markdown",
   "id": "7908e860",
   "metadata": {},
   "source": [
    "Агент который каждый новый ход меняет свой выбор на следующий"
   ]
  },
  {
   "cell_type": "code",
   "execution_count": 11,
   "id": "8f3b7d65",
   "metadata": {},
   "outputs": [
    {
     "name": "stdout",
     "output_type": "stream",
     "text": [
      "Overwriting step_agent.py\n"
     ]
    }
   ],
   "source": [
    "%%writefile step_agent.py\n",
    "def step(observation, configuration):\n",
    "    return observation.step % configuration.signs"
   ]
  },
  {
   "cell_type": "markdown",
   "id": "9126f5b0",
   "metadata": {},
   "source": [
    "Агент который меняет свой выбор на следующий раз в три хода"
   ]
  },
  {
   "cell_type": "code",
   "execution_count": 12,
   "id": "33db409a",
   "metadata": {},
   "outputs": [
    {
     "name": "stdout",
     "output_type": "stream",
     "text": [
      "Overwriting step3_agent.py\n"
     ]
    }
   ],
   "source": [
    "%%writefile step3_agent.py\n",
    "\n",
    "flag = 0\n",
    "my_action = 0\n",
    "\n",
    "def step(observation, configuration):\n",
    "    global flag, my_action\n",
    "    if flag == 4:\n",
    "        my_action = ( my_action + 1) % configuration.signs\n",
    "        flag = 0\n",
    "    flag += 1\n",
    "    return my_action"
   ]
  },
  {
   "cell_type": "markdown",
   "id": "47cbe73d",
   "metadata": {},
   "source": [
    "Агент который меняет свой выбор через один (в ряду камень-бумага-ножницы) каждый ход."
   ]
  },
  {
   "cell_type": "code",
   "execution_count": 13,
   "id": "4d642a31",
   "metadata": {},
   "outputs": [
    {
     "name": "stdout",
     "output_type": "stream",
     "text": [
      "Overwriting step_2_agent.py\n"
     ]
    }
   ],
   "source": [
    "%%writefile step_2_agent.py\n",
    "\n",
    "my_action = 0\n",
    "\n",
    "def step(observation, configuration):\n",
    "    global my_action\n",
    "    my_action = ( my_action + 2) % configuration.signs\n",
    "    return my_action"
   ]
  },
  {
   "cell_type": "markdown",
   "id": "e031ad99",
   "metadata": {},
   "source": [
    "Этот агент действует исходя из истории поведения соперника. Делает свой выбор так что бы выиграть у самого частого выбора соперника."
   ]
  },
  {
   "cell_type": "code",
   "execution_count": 14,
   "id": "422bc438",
   "metadata": {},
   "outputs": [
    {
     "name": "stdout",
     "output_type": "stream",
     "text": [
      "Overwriting hist_agent.py\n"
     ]
    }
   ],
   "source": [
    "%%writefile hist_agent.py\n",
    "import random\n",
    "\n",
    "\n",
    "action_histogram = {}\n",
    "\n",
    "\n",
    "def statistical(observation, configuration):\n",
    "    global action_histogram\n",
    "    if observation.step == 0:\n",
    "        action_histogram = {}\n",
    "        return\n",
    "    action = observation.lastOpponentAction\n",
    "    if action not in action_histogram:\n",
    "        action_histogram[action] = 0\n",
    "    action_histogram[action] += 1\n",
    "    mode_action = None\n",
    "    mode_action_count = None\n",
    "    for k, v in action_histogram.items():\n",
    "        if mode_action_count is None or v > mode_action_count:\n",
    "            mode_action = k\n",
    "            mode_action_count = v\n",
    "            continue\n",
    "\n",
    "    return (mode_action + 1) % configuration.signs"
   ]
  },
  {
   "cell_type": "markdown",
   "id": "b5f9d15b",
   "metadata": {},
   "source": [
    "## Организуем турнир\n",
    "Составим список стратегий"
   ]
  },
  {
   "cell_type": "code",
   "execution_count": 15,
   "id": "208d3bae",
   "metadata": {},
   "outputs": [],
   "source": [
    "agents = ['rock_agent.py', 'paper_agent.py', 'scissors_agent.py', 'step_agent.py', 'step3_agent.py'\n",
    "       , 'step_2_agent.py', 'hist_agent.py', 'last_react_agent.py', 'last_count_react_agent.py', \n",
    "        'reward_agent.py', 'copy_opponent_agent.py', 'rand_agent.py'\n",
    "         ]"
   ]
  },
  {
   "cell_type": "markdown",
   "id": "5d2cf475",
   "metadata": {},
   "source": [
    "Введем функцию раздающую очки за победу 1 - победа, 0 - ничья, -1 - поражение"
   ]
  },
  {
   "cell_type": "code",
   "execution_count": 16,
   "id": "a32848b6",
   "metadata": {},
   "outputs": [],
   "source": [
    "def sign(x):\n",
    "    if x > 0:\n",
    "        return 1\n",
    "    elif x == 0:\n",
    "        return 0\n",
    "    else:\n",
    "        return -1"
   ]
  },
  {
   "cell_type": "markdown",
   "id": "03cd6e4d",
   "metadata": {},
   "source": [
    "Сам турнир"
   ]
  },
  {
   "cell_type": "code",
   "execution_count": 17,
   "id": "f735d4fd",
   "metadata": {},
   "outputs": [],
   "source": [
    "res_table = [0 for i in range(12)] \n",
    "for id1, first in enumerate(agents):\n",
    "    for id2, second in enumerate(agents): # Проходим по всем стратегиям\n",
    "        #Организуем \"встречи\"\n",
    "        res = evaluate(\n",
    "            \"rps\", \n",
    "            [first, second], \n",
    "            configuration={\"episodeSteps\": 100}  \n",
    "            )\n",
    "       #Записываем результаты\n",
    "        res_table[id1-1] += sign(res[0][0])\n",
    "        res_table[id2-1] += sign(res[0][1])\n",
    "    "
   ]
  },
  {
   "cell_type": "markdown",
   "id": "47076c9a",
   "metadata": {},
   "source": [
    "Определяем победителя\n"
   ]
  },
  {
   "cell_type": "code",
   "execution_count": 108,
   "id": "a95a43be",
   "metadata": {},
   "outputs": [
    {
     "name": "stdout",
     "output_type": "stream",
     "text": [
      "Победила стратегия last_count_react\n"
     ]
    }
   ],
   "source": [
    "max_result = max(res_table)\n",
    "victory_id = res_table.index(a)\n",
    "print('Победила стратегия ' + agents[victory_id][:-9])"
   ]
  }
 ],
 "metadata": {
  "kernelspec": {
   "display_name": "Python 3 (ipykernel)",
   "language": "python",
   "name": "python3"
  },
  "language_info": {
   "codemirror_mode": {
    "name": "ipython",
    "version": 3
   },
   "file_extension": ".py",
   "mimetype": "text/x-python",
   "name": "python",
   "nbconvert_exporter": "python",
   "pygments_lexer": "ipython3",
   "version": "3.9.12"
  }
 },
 "nbformat": 4,
 "nbformat_minor": 5
}
